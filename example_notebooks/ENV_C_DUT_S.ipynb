{
 "cells": [
  {
   "cell_type": "code",
   "execution_count": 2,
   "metadata": {},
   "outputs": [
    {
     "name": "stdout",
     "output_type": "stream",
     "text": [
      "The xdiag_magic extension is already loaded. To reload it, use:\n",
      "  %reload_ext xdiag_magic\n"
     ]
    }
   ],
   "source": [
    "%load_ext xdiag_magic\n",
    "%xdiag_output_format svg"
   ]
  },
  {
   "cell_type": "code",
   "execution_count": 28,
   "metadata": {},
   "outputs": [
    {
     "data": {
      "image/svg+xml": [
       "<?xml version='1.0' encoding='UTF-8'?>\n",
       "<!DOCTYPE svg PUBLIC \"-//W3C//DTD SVG 1.0//EN\" \"http://www.w3.org/TR/2001/REC-SVG-20010904/DTD/svg10.dtd\">\n",
       "<svg viewBox=\"0 0 1024 335\" xmlns=\"http://www.w3.org/2000/svg\" xmlns:inkspace=\"http://www.inkscape.org/namespaces/inkscape\" xmlns:xlink=\"http://www.w3.org/1999/xlink\">\n",
       "  <defs id=\"defs_block\">\n",
       "    <filter height=\"1.504\" id=\"filter_blur\" inkspace:collect=\"always\" width=\"1.1575\" x=\"-0.07875\" y=\"-0.252\">\n",
       "      <feGaussianBlur id=\"feGaussianBlur3780\" inkspace:collect=\"always\" stdDeviation=\"4.2\" />\n",
       "    </filter>\n",
       "  </defs>\n",
       "  <title>blockdiag</title>\n",
       "  <desc>{\n",
       "    C     [label = \"Client(s)\", stacked];\n",
       "    NetL  [label = \"network\\n(left)\",  shape = cloud, height=75, color=lightgrey ];\n",
       "    DUT   [description = \"Device Under Test\"]\n",
       "    NetR  [label = \"network\\n(right)\", shape = cloud, height=75, color=lightgrey ];\n",
       "    S     [label = \"Server(s)\", stacked];\n",
       "    \n",
       "    ORCH  [label = \"Orchestration\\nNetwork\", shape = cloud, height=60 ];\n",
       "    \n",
       "    User  [shape = actor];\n",
       "    \n",
       "    group {\n",
       "        color = lightblue;\n",
       "        label = \"Test-Environment\";\n",
       "        C -- NetL -- DUT -- NetR -- S\n",
       "    }\n",
       "    \n",
       "    C   -- ORCH [style = dotted, folded];\n",
       "    S   -- ORCH [style = dotted, folded];\n",
       "    DUT -- ORCH [style = dotted, folded];\n",
       "    \n",
       "    User -&gt; ORCH [folded];\n",
       "}\n",
       "</desc>\n",
       "  <rect fill=\"rgb(173,216,230)\" height=\"95\" style=\"filter:url(#filter_blur)\" width=\"912\" x=\"56\" y=\"30\" />\n",
       "  <rect fill=\"rgb(0,0,0)\" height=\"41\" stroke=\"rgb(0,0,0)\" style=\"filter:url(#filter_blur);opacity:0.7;fill-opacity:1\" width=\"128\" x=\"75\" y=\"71\" />\n",
       "  <rect fill=\"rgb(0,0,0)\" height=\"41\" stroke=\"rgb(0,0,0)\" style=\"filter:url(#filter_blur);opacity:0.7;fill-opacity:1\" width=\"128\" x=\"71\" y=\"67\" />\n",
       "  <rect fill=\"rgb(0,0,0)\" height=\"41\" stroke=\"rgb(0,0,0)\" style=\"filter:url(#filter_blur);opacity:0.7;fill-opacity:1\" width=\"128\" x=\"67\" y=\"63\" />\n",
       "  <path d=\"M 279 76 A20,15 0 0 1 299 61 A20,11 0 0 1 349 61 A20,15 0 0 1 369 76 A20,15 0 0 1 369 106 A20,37 0 0 1 339 106 A20,37 0 0 1 309 106 A20,37 0 0 1 279 106 A20,15 0 0 1 279 76\" fill=\"rgb(0,0,0)\" stroke=\"rgb(0,0,0)\" style=\"filter:url(#filter_blur);opacity:0.7;fill-opacity:1\" />\n",
       "  <rect fill=\"rgb(0,0,0)\" height=\"41\" stroke=\"rgb(0,0,0)\" style=\"filter:url(#filter_blur);opacity:0.7;fill-opacity:1\" width=\"128\" x=\"451\" y=\"63\" />\n",
       "  <path d=\"M 663 76 A20,15 0 0 1 683 61 A20,11 0 0 1 733 61 A20,15 0 0 1 753 76 A20,15 0 0 1 753 106 A20,37 0 0 1 723 106 A20,37 0 0 1 693 106 A20,37 0 0 1 663 106 A20,15 0 0 1 663 76\" fill=\"rgb(0,0,0)\" stroke=\"rgb(0,0,0)\" style=\"filter:url(#filter_blur);opacity:0.7;fill-opacity:1\" />\n",
       "  <rect fill=\"rgb(0,0,0)\" height=\"41\" stroke=\"rgb(0,0,0)\" style=\"filter:url(#filter_blur);opacity:0.7;fill-opacity:1\" width=\"128\" x=\"843\" y=\"71\" />\n",
       "  <rect fill=\"rgb(0,0,0)\" height=\"41\" stroke=\"rgb(0,0,0)\" style=\"filter:url(#filter_blur);opacity:0.7;fill-opacity:1\" width=\"128\" x=\"839\" y=\"67\" />\n",
       "  <rect fill=\"rgb(0,0,0)\" height=\"41\" stroke=\"rgb(0,0,0)\" style=\"filter:url(#filter_blur);opacity:0.7;fill-opacity:1\" width=\"128\" x=\"835\" y=\"63\" />\n",
       "  <path d=\"M 87 185 A20,12 0 0 1 107 173 A20,9 0 0 1 157 173 A20,12 0 0 1 177 185 A20,12 0 0 1 177 209 A20,30 0 0 1 147 209 A20,30 0 0 1 117 209 A20,30 0 0 1 87 209 A20,12 0 0 1 87 185\" fill=\"rgb(0,0,0)\" stroke=\"rgb(0,0,0)\" style=\"filter:url(#filter_blur);opacity:0.7;fill-opacity:1\" />\n",
       "  <polygon fill=\"rgb(0,0,0)\" points=\"133,275 133,278 143,278 143,281 133,281 133,284 141,293 137,293 131,287 125,293 121,293 129,284 129,281 119,281 119,278 129,278 129,275\" style=\"filter:url(#filter_blur);opacity:0.7;fill-opacity:1\" />\n",
       "  <ellipse cx=\"131\" cy=\"272\" fill=\"rgb(0,0,0)\" rx=\"4.0\" ry=\"4.0\" stroke=\"rgb(0,0,0)\" style=\"filter:url(#filter_blur);opacity:0.7;fill-opacity:1\" />\n",
       "  <rect fill=\"rgb(255,255,255)\" height=\"41\" stroke=\"rgb(0,0,0)\" width=\"128\" x=\"72\" y=\"65\" />\n",
       "  <rect fill=\"rgb(255,255,255)\" height=\"41\" stroke=\"rgb(0,0,0)\" width=\"128\" x=\"68\" y=\"61\" />\n",
       "  <rect fill=\"rgb(255,255,255)\" height=\"41\" stroke=\"rgb(0,0,0)\" width=\"128\" x=\"64\" y=\"57\" />\n",
       "  <text fill=\"rgb(0,0,0)\" font-family=\"sans-serif\" font-size=\"11\" font-style=\"normal\" font-weight=\"normal\" text-anchor=\"middle\" textLength=\"45\" x=\"128.5\" y=\"83\">Client(s)</text>\n",
       "  <path d=\"M 276 70 A20,15 0 0 1 296 55 A20,11 0 0 1 346 55 A20,15 0 0 1 366 70 A20,15 0 0 1 366 100 A20,37 0 0 1 336 100 A20,37 0 0 1 306 100 A20,37 0 0 1 276 100 A20,15 0 0 1 276 70\" fill=\"rgb(211,211,211)\" stroke=\"rgb(0,0,0)\" />\n",
       "  <text fill=\"rgb(0,0,0)\" font-family=\"sans-serif\" font-size=\"11\" font-style=\"normal\" font-weight=\"normal\" text-anchor=\"middle\" textLength=\"41\" x=\"321.5\" y=\"76\">network</text>\n",
       "  <text fill=\"rgb(0,0,0)\" font-family=\"sans-serif\" font-size=\"11\" font-style=\"normal\" font-weight=\"normal\" text-anchor=\"middle\" textLength=\"28\" x=\"321.0\" y=\"89\">(left)</text>\n",
       "  <rect fill=\"rgb(255,255,255)\" height=\"41\" stroke=\"rgb(0,0,0)\" width=\"128\" x=\"448\" y=\"57\" />\n",
       "  <text fill=\"rgb(0,0,0)\" font-family=\"sans-serif\" font-size=\"11\" font-style=\"normal\" font-weight=\"normal\" text-anchor=\"middle\" textLength=\"23\" x=\"512.5\" y=\"83\">DUT</text>\n",
       "  <path d=\"M 660 70 A20,15 0 0 1 680 55 A20,11 0 0 1 730 55 A20,15 0 0 1 750 70 A20,15 0 0 1 750 100 A20,37 0 0 1 720 100 A20,37 0 0 1 690 100 A20,37 0 0 1 660 100 A20,15 0 0 1 660 70\" fill=\"rgb(211,211,211)\" stroke=\"rgb(0,0,0)\" />\n",
       "  <text fill=\"rgb(0,0,0)\" font-family=\"sans-serif\" font-size=\"11\" font-style=\"normal\" font-weight=\"normal\" text-anchor=\"middle\" textLength=\"41\" x=\"705.5\" y=\"76\">network</text>\n",
       "  <text fill=\"rgb(0,0,0)\" font-family=\"sans-serif\" font-size=\"11\" font-style=\"normal\" font-weight=\"normal\" text-anchor=\"middle\" textLength=\"34\" x=\"705.0\" y=\"90\">(right)</text>\n",
       "  <rect fill=\"rgb(255,255,255)\" height=\"41\" stroke=\"rgb(0,0,0)\" width=\"128\" x=\"840\" y=\"65\" />\n",
       "  <rect fill=\"rgb(255,255,255)\" height=\"41\" stroke=\"rgb(0,0,0)\" width=\"128\" x=\"836\" y=\"61\" />\n",
       "  <rect fill=\"rgb(255,255,255)\" height=\"41\" stroke=\"rgb(0,0,0)\" width=\"128\" x=\"832\" y=\"57\" />\n",
       "  <text fill=\"rgb(0,0,0)\" font-family=\"sans-serif\" font-size=\"11\" font-style=\"normal\" font-weight=\"normal\" text-anchor=\"middle\" textLength=\"50\" x=\"896.0\" y=\"83\">Server(s)</text>\n",
       "  <path d=\"M 84 179 A20,12 0 0 1 104 167 A20,9 0 0 1 154 167 A20,12 0 0 1 174 179 A20,12 0 0 1 174 203 A20,30 0 0 1 144 203 A20,30 0 0 1 114 203 A20,30 0 0 1 84 203 A20,12 0 0 1 84 179\" fill=\"rgb(255,255,255)\" stroke=\"rgb(0,0,0)\" />\n",
       "  <text fill=\"rgb(0,0,0)\" font-family=\"sans-serif\" font-size=\"11\" font-style=\"normal\" font-weight=\"normal\" text-anchor=\"middle\" textLength=\"68\" x=\"129.0\" y=\"184\">Orchestration</text>\n",
       "  <text fill=\"rgb(0,0,0)\" font-family=\"sans-serif\" font-size=\"11\" font-style=\"normal\" font-weight=\"normal\" text-anchor=\"middle\" textLength=\"43\" x=\"129.5\" y=\"196\">Network</text>\n",
       "  <polygon fill=\"rgb(255,255,255)\" points=\"130,269 130,272 140,272 140,275 130,275 130,278 138,287 134,287 128,281 122,287 118,287 126,278 126,275 116,275 116,272 126,272 126,269\" stroke=\"rgb(0,0,0)\" />\n",
       "  <ellipse cx=\"128\" cy=\"266\" fill=\"rgb(255,255,255)\" rx=\"4.0\" ry=\"4.0\" stroke=\"rgb(0,0,0)\" />\n",
       "  <text fill=\"rgb(0,0,0)\" font-family=\"sans-serif\" font-size=\"11\" font-style=\"normal\" font-weight=\"normal\" text-anchor=\"middle\" textLength=\"23\" x=\"128.5\" y=\"299\">User</text>\n",
       "  <path d=\"M 128 262 L 128 223\" fill=\"none\" stroke=\"rgb(0,0,0)\" />\n",
       "  <polygon fill=\"rgb(0,0,0)\" points=\"128,216 124,223 132,223 128,216\" stroke=\"rgb(0,0,0)\" />\n",
       "  <path d=\"M 200 77 L 256 77\" fill=\"none\" stroke=\"rgb(0,0,0)\" />\n",
       "  <path d=\"M 128 106 L 128 155\" fill=\"none\" stroke=\"rgb(0,0,0)\" stroke-dasharray=\"2\" />\n",
       "  <path d=\"M 384 77 L 448 77\" fill=\"none\" stroke=\"rgb(0,0,0)\" />\n",
       "  <path d=\"M 576 77 L 640 77\" fill=\"none\" stroke=\"rgb(0,0,0)\" />\n",
       "  <path d=\"M 512 98 L 512 135\" fill=\"none\" stroke=\"rgb(0,0,0)\" stroke-dasharray=\"2\" />\n",
       "  <path d=\"M 128 135 L 512 135\" fill=\"none\" stroke=\"rgb(0,0,0)\" stroke-dasharray=\"2\" />\n",
       "  <path d=\"M 128 135 L 128 155\" fill=\"none\" stroke=\"rgb(0,0,0)\" stroke-dasharray=\"2\" />\n",
       "  <path d=\"M 768 77 L 832 77\" fill=\"none\" stroke=\"rgb(0,0,0)\" />\n",
       "  <path d=\"M 896 106 L 896 135\" fill=\"none\" stroke=\"rgb(0,0,0)\" stroke-dasharray=\"2\" />\n",
       "  <path d=\"M 128 135 L 896 135\" fill=\"none\" stroke=\"rgb(0,0,0)\" stroke-dasharray=\"2\" />\n",
       "  <path d=\"M 128 135 L 128 155\" fill=\"none\" stroke=\"rgb(0,0,0)\" stroke-dasharray=\"2\" />\n",
       "  <text fill=\"rgb(0,0,0)\" font-family=\"sans-serif\" font-size=\"11\" font-style=\"normal\" font-weight=\"normal\" text-anchor=\"middle\" textLength=\"90\" x=\"512.0\" y=\"35\">Test-Environment</text>\n",
       "</svg>\n"
      ]
     },
     "metadata": {},
     "output_type": "display_data"
    }
   ],
   "source": [
    "%%blockdiag\n",
    "{\n",
    "    C     [label = \"Client(s)\", stacked];\n",
    "    NetL  [label = \"network\\n(left)\",  shape = cloud, height=75, color=lightgrey ];\n",
    "    DUT   [description = \"Device Under Test\"]\n",
    "    NetR  [label = \"network\\n(right)\", shape = cloud, height=75, color=lightgrey ];\n",
    "    S     [label = \"Server(s)\", stacked];\n",
    "    \n",
    "    ORCH  [label = \"Orchestration\\nNetwork\", shape = cloud, height=60 ];\n",
    "    \n",
    "    User  [shape = actor];\n",
    "    \n",
    "    group {\n",
    "        color = lightblue;\n",
    "        label = \"Test-Environment\";\n",
    "        C -- NetL -- DUT -- NetR -- S\n",
    "    }\n",
    "    \n",
    "    C   -- ORCH [style = dotted, folded];\n",
    "    S   -- ORCH [style = dotted, folded];\n",
    "    DUT -- ORCH [style = dotted, folded];\n",
    "    \n",
    "    User -> ORCH [folded];\n",
    "}"
   ]
  }
 ],
 "metadata": {
  "kernelspec": {
   "display_name": "Python 3",
   "language": "python",
   "name": "python3"
  },
  "language_info": {
   "codemirror_mode": {
    "name": "ipython",
    "version": 3
   },
   "file_extension": ".py",
   "mimetype": "text/x-python",
   "name": "python",
   "nbconvert_exporter": "python",
   "pygments_lexer": "ipython3",
   "version": "3.6.4"
  }
 },
 "nbformat": 4,
 "nbformat_minor": 2
}
